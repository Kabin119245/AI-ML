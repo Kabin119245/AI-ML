{
  "nbformat": 4,
  "nbformat_minor": 0,
  "metadata": {
    "colab": {
      "provenance": [],
      "authorship_tag": "ABX9TyMYuMCi9pxgJPJBg/a2KRKx",
      "include_colab_link": true
    },
    "kernelspec": {
      "name": "python3",
      "display_name": "Python 3"
    },
    "language_info": {
      "name": "python"
    }
  },
  "cells": [
    {
      "cell_type": "markdown",
      "metadata": {
        "id": "view-in-github",
        "colab_type": "text"
      },
      "source": [
        "<a href=\"https://colab.research.google.com/github/Kabin119245/AI-ML/blob/main/Python_Speech_Recognition_Tutorial.ipynb\" target=\"_parent\"><img src=\"https://colab.research.google.com/assets/colab-badge.svg\" alt=\"Open In Colab\"/></a>"
      ]
    },
    {
      "cell_type": "code",
      "source": [
        "import wave"
      ],
      "metadata": {
        "id": "5XyPooYd1S7b"
      },
      "execution_count": 11,
      "outputs": []
    },
    {
      "cell_type": "markdown",
      "source": [
        "## Audio Signal Parameters\n",
        "1. number of channels\n",
        "2. sample width - no of bytes\n",
        "3. framerate/ sample_rate - samfle rate/frequency, 44,100 Hz\n",
        "4. number of frames\n",
        "4. values of a frame"
      ],
      "metadata": {
        "id": "MiJqAdQ98hRe"
      }
    },
    {
      "cell_type": "code",
      "source": [
        "obj = wave.open(\"Conference.wav\",\"rb\")\n",
        "print(\"Number of channels\", obj.getnchannels())\n",
        "print(\"Sample width\", obj.getsampwidth())\n",
        "print(\"Frame Rate\", obj.getframerate())\n",
        "print(\"Number of frames\", obj.getnframes())\n",
        "print(\"Parameters\", obj.getparams())"
      ],
      "metadata": {
        "colab": {
          "base_uri": "https://localhost:8080/"
        },
        "id": "L0QPxS9x3PQy",
        "outputId": "ce5503fa-f339-46c5-e9b9-7501f402def2"
      },
      "execution_count": 14,
      "outputs": [
        {
          "output_type": "stream",
          "name": "stdout",
          "text": [
            "Number of channels 2\n",
            "Sample width 2\n",
            "Frame Rate 48000\n",
            "Number of frames 247742\n",
            "Parameters _wave_params(nchannels=2, sampwidth=2, framerate=48000, nframes=247742, comptype='NONE', compname='not compressed')\n"
          ]
        }
      ]
    },
    {
      "cell_type": "code",
      "source": [
        "t_audio = obj.getnframes() / obj.getframerate()\n",
        "print(t_audio)"
      ],
      "metadata": {
        "colab": {
          "base_uri": "https://localhost:8080/"
        },
        "id": "Gf8UZXQD_-Zp",
        "outputId": "59b3537d-d283-44f4-b04b-64bda2231966"
      },
      "execution_count": 17,
      "outputs": [
        {
          "output_type": "stream",
          "name": "stdout",
          "text": [
            "5.161291666666667\n"
          ]
        }
      ]
    }
  ]
}