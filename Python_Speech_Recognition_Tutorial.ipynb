{
  "nbformat": 4,
  "nbformat_minor": 0,
  "metadata": {
    "colab": {
      "provenance": [],
      "authorship_tag": "ABX9TyMLCuFI7ex9/q7EpnGlVuMY",
      "include_colab_link": true
    },
    "kernelspec": {
      "name": "python3",
      "display_name": "Python 3"
    },
    "language_info": {
      "name": "python"
    }
  },
  "cells": [
    {
      "cell_type": "markdown",
      "metadata": {
        "id": "view-in-github",
        "colab_type": "text"
      },
      "source": [
        "<a href=\"https://colab.research.google.com/github/Kabin119245/AI-ML/blob/main/Python_Speech_Recognition_Tutorial.ipynb\" target=\"_parent\"><img src=\"https://colab.research.google.com/assets/colab-badge.svg\" alt=\"Open In Colab\"/></a>"
      ]
    },
    {
      "cell_type": "code",
      "source": [
        "import wave\n",
        "import matplotlib.pyplot as plt\n",
        "import numpy as np"
      ],
      "metadata": {
        "id": "5XyPooYd1S7b"
      },
      "execution_count": 34,
      "outputs": []
    },
    {
      "cell_type": "markdown",
      "source": [
        "## Audio Signal Parameters\n",
        "1. number of channels\n",
        "2. sample width - no of bytes\n",
        "3. framerate/ sample_rate - samfle rate/frequency, 44,100 Hz\n",
        "4. number of frames\n",
        "4. values of a frame"
      ],
      "metadata": {
        "id": "MiJqAdQ98hRe"
      }
    },
    {
      "cell_type": "code",
      "source": [
        "obj = wave.open(\"Conference.wav\",\"rb\")\n",
        "print(\"Number of channels\", obj.getnchannels())\n",
        "print(\"Sample width\", obj.getsampwidth())\n",
        "print(\"Frame Rate\", obj.getframerate())\n",
        "print(\"Number of frames\", obj.getnframes())\n",
        "print(\"Parameters\", obj.getparams())\n",
        "t_audio = obj.getnframes() / obj.getframerate()\n",
        "print(t_audio)\n",
        "frames = obj.readframes(-1)\n",
        "print(type(frames), type(frames[0]))\n",
        "print(len(frames) / 2)\n",
        "obj.close()"
      ],
      "metadata": {
        "colab": {
          "base_uri": "https://localhost:8080/"
        },
        "id": "L0QPxS9x3PQy",
        "outputId": "1d7ef3f9-30ee-4e2d-ac3d-2e9c0033f72a"
      },
      "execution_count": 32,
      "outputs": [
        {
          "output_type": "stream",
          "name": "stdout",
          "text": [
            "Number of channels 2\n",
            "Sample width 2\n",
            "Frame Rate 48000\n",
            "Number of frames 247742\n",
            "Parameters _wave_params(nchannels=2, sampwidth=2, framerate=48000, nframes=247742, comptype='NONE', compname='not compressed')\n",
            "5.161291666666667\n",
            "<class 'bytes'> <class 'int'>\n",
            "495484.0\n"
          ]
        }
      ]
    },
    {
      "cell_type": "markdown",
      "source": [
        "## Saving data again\n"
      ],
      "metadata": {
        "id": "wZvyegFXB_9J"
      }
    },
    {
      "cell_type": "code",
      "source": [
        "obj1 = wave.open(\"Conference_new.wav\",\"wb\")\n",
        "obj1.setnchannels(2)\n",
        "obj1.setsampwidth(2)\n",
        "obj1.setframerate(48000.0)\n",
        "\n",
        "obj1.writeframes(frames)\n",
        "obj1.close()"
      ],
      "metadata": {
        "id": "4mNUAqYgCR5D"
      },
      "execution_count": 31,
      "outputs": []
    },
    {
      "cell_type": "markdown",
      "source": [
        "## Plot a wav file"
      ],
      "metadata": {
        "id": "aWOJt1wWEAca"
      }
    },
    {
      "cell_type": "code",
      "source": [
        "!pip install matplotlib numpy"
      ],
      "metadata": {
        "colab": {
          "base_uri": "https://localhost:8080/"
        },
        "id": "jk4pLMrFD_wh",
        "outputId": "62f25b97-1926-4867-cbca-575f4c707ce3"
      },
      "execution_count": 33,
      "outputs": [
        {
          "output_type": "stream",
          "name": "stdout",
          "text": [
            "Requirement already satisfied: matplotlib in /usr/local/lib/python3.10/dist-packages (3.7.1)\n",
            "Requirement already satisfied: numpy in /usr/local/lib/python3.10/dist-packages (1.25.2)\n",
            "Requirement already satisfied: contourpy>=1.0.1 in /usr/local/lib/python3.10/dist-packages (from matplotlib) (1.2.1)\n",
            "Requirement already satisfied: cycler>=0.10 in /usr/local/lib/python3.10/dist-packages (from matplotlib) (0.12.1)\n",
            "Requirement already satisfied: fonttools>=4.22.0 in /usr/local/lib/python3.10/dist-packages (from matplotlib) (4.51.0)\n",
            "Requirement already satisfied: kiwisolver>=1.0.1 in /usr/local/lib/python3.10/dist-packages (from matplotlib) (1.4.5)\n",
            "Requirement already satisfied: packaging>=20.0 in /usr/local/lib/python3.10/dist-packages (from matplotlib) (24.0)\n",
            "Requirement already satisfied: pillow>=6.2.0 in /usr/local/lib/python3.10/dist-packages (from matplotlib) (9.4.0)\n",
            "Requirement already satisfied: pyparsing>=2.3.1 in /usr/local/lib/python3.10/dist-packages (from matplotlib) (3.1.2)\n",
            "Requirement already satisfied: python-dateutil>=2.7 in /usr/local/lib/python3.10/dist-packages (from matplotlib) (2.8.2)\n",
            "Requirement already satisfied: six>=1.5 in /usr/local/lib/python3.10/dist-packages (from python-dateutil>=2.7->matplotlib) (1.16.0)\n"
          ]
        }
      ]
    },
    {
      "cell_type": "code",
      "source": [
        "obj2 = wave.open(\"Conference.wav\",\"rb\")"
      ],
      "metadata": {
        "id": "mOQpf0CJEOnq"
      },
      "execution_count": 35,
      "outputs": []
    }
  ]
}