{
 "cells": [
  {
   "cell_type": "code",
   "execution_count": 5,
   "id": "95fbd31b-e36f-4c4b-bd69-1ac2d900c5fa",
   "metadata": {},
   "outputs": [
    {
     "name": "stdin",
     "output_type": "stream",
     "text": [
      "Enter the start and end of the range seperated by comma:  100,200\n"
     ]
    },
    {
     "name": "stdout",
     "output_type": "stream",
     "text": [
      "Prime numbers between 100 and 200: [101, 103, 107, 109, 113, 127, 131, 137, 139, 149, 151, 157, 163, 167, 173, 179, 181, 191, 193, 197, 199]\n"
     ]
    }
   ],
   "source": [
    "#program to find prime numbers between given range\n",
    "   \n",
    "def is_prime(num):\n",
    "    if num < 2:\n",
    "        return False\n",
    "    for i in range(2, int(num**0.5) + 1):\n",
    "        if num % i == 0:\n",
    "            return False\n",
    "    return True\n",
    "    \n",
    "def prime_range(start, end):\n",
    "    prime_numbers = []\n",
    "    for num in range(start, end + 1):\n",
    "        if is_prime(num):\n",
    "            prime_numbers.append(num)\n",
    "    return prime_numbers\n",
    "\n",
    "start, end = map(int, input(\"Enter the start and end of the range seperated by comma: \").split(\",\"))\n",
    "\n",
    "result = prime_range(start, end)\n",
    "print(f\"Prime numbers between {start} and {end}: {result}\")\n",
    "\n"
   ]
  },
  {
   "cell_type": "code",
   "execution_count": 10,
   "id": "81c8683c-aa49-44e2-8316-1aedd421bb63",
   "metadata": {},
   "outputs": [
    {
     "name": "stdin",
     "output_type": "stream",
     "text": [
      "Enter a number:  999\n"
     ]
    },
    {
     "name": "stdout",
     "output_type": "stream",
     "text": [
      "999 is a palindrome.\n"
     ]
    }
   ],
   "source": [
    "#check number is pallindrome or not\n",
    "\n",
    "def reverse_number(number):\n",
    "    rev = 0\n",
    "    orig = number\n",
    "    \n",
    "    while number > 0:\n",
    "        digit = number % 10\n",
    "        rev = rev * 10 + digit\n",
    "        number = number // 10\n",
    "    \n",
    "    return rev\n",
    "    \n",
    "def is_palindrome(number):\n",
    "   \n",
    "    return number == reverse_number(number)\n",
    "\n",
    "\n",
    "num = int(input(\"Enter a number: \"))\n",
    "\n",
    "if is_palindrome(num):\n",
    "    print(f\"{num} is a palindrome.\")\n",
    "else:\n",
    "    print(f\"{num} is not a palindrome.\")\n"
   ]
  },
  {
   "cell_type": "code",
   "execution_count": 13,
   "id": "d423af88-a294-4e7f-ac5f-10d5b3ac8951",
   "metadata": {},
   "outputs": [
    {
     "name": "stdin",
     "output_type": "stream",
     "text": [
      "Enter a number to generate Fibonacci sequence :  10\n"
     ]
    },
    {
     "name": "stdout",
     "output_type": "stream",
     "text": [
      "Fibonacci sequence up to 10: [0, 1, 1, 2, 3, 5, 8]\n"
     ]
    }
   ],
   "source": [
    "#fibonacci series upto n number\n",
    "def gen(n):\n",
    "    a, b = 0, 1\n",
    "    seq = [a]\n",
    "\n",
    "    while b <= n:\n",
    "        seq.append(b)\n",
    "        a, b = b, a + b\n",
    "\n",
    "    return seq\n",
    "\n",
    "num = int(input(\"Enter a number to generate Fibonacci sequence : \"))\n",
    "result = gen(num)\n",
    "print(f\"Fibonacci sequence up to {num}: {result}\")"
   ]
  },
  {
   "cell_type": "code",
   "execution_count": 17,
   "id": "441b8324-dcfc-458a-a3e4-ff40c83545bc",
   "metadata": {},
   "outputs": [
    {
     "name": "stdout",
     "output_type": "stream",
     "text": [
      "I have choosen a random number between 1 and 100. Try to guess it!\n"
     ]
    },
    {
     "name": "stdin",
     "output_type": "stream",
     "text": [
      "Enter your guess:  25\n"
     ]
    },
    {
     "name": "stdout",
     "output_type": "stream",
     "text": [
      "Too high! Try a lower number.\n"
     ]
    },
    {
     "name": "stdin",
     "output_type": "stream",
     "text": [
      "Enter your guess:  10\n"
     ]
    },
    {
     "name": "stdout",
     "output_type": "stream",
     "text": [
      "Too low! Try a higher number.\n"
     ]
    },
    {
     "name": "stdin",
     "output_type": "stream",
     "text": [
      "Enter your guess:  15\n"
     ]
    },
    {
     "name": "stdout",
     "output_type": "stream",
     "text": [
      "Too high! Try a lower number.\n"
     ]
    },
    {
     "name": "stdin",
     "output_type": "stream",
     "text": [
      "Enter your guess:  14\n"
     ]
    },
    {
     "name": "stdout",
     "output_type": "stream",
     "text": [
      "Congratulations! You guessed the correct number 14 \n"
     ]
    }
   ],
   "source": [
    "import random\n",
    "\n",
    "def guessing_game():\n",
    "    print(\"I have choosen a random number between 1 and 100. Try to guess it!\")\n",
    "\n",
    "    my_num = random.randint(1, 100)\n",
    "    \n",
    "    while True:\n",
    "        user_guess = int(input(\"Enter your guess: \"))\n",
    "        if user_guess == my_num:\n",
    "            print(f\"Congratulations! You guessed the correct number {my_num} \")\n",
    "            break\n",
    "        elif user_guess < my_num:\n",
    "            print(\"Too low! Try a higher number.\")\n",
    "        else:\n",
    "            print(\"Too high! Try a lower number.\")\n",
    "\n",
    "guessing_game()"
   ]
  },
  {
   "cell_type": "code",
   "execution_count": null,
   "id": "2ab080ae-c48f-469a-b267-e19352c63c2b",
   "metadata": {},
   "outputs": [],
   "source": []
  }
 ],
 "metadata": {
  "kernelspec": {
   "display_name": "Python 3 (ipykernel)",
   "language": "python",
   "name": "python3"
  },
  "language_info": {
   "codemirror_mode": {
    "name": "ipython",
    "version": 3
   },
   "file_extension": ".py",
   "mimetype": "text/x-python",
   "name": "python",
   "nbconvert_exporter": "python",
   "pygments_lexer": "ipython3",
   "version": "3.11.5"
  }
 },
 "nbformat": 4,
 "nbformat_minor": 5
}
